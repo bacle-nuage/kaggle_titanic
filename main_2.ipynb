{
  "nbformat": 4,
  "nbformat_minor": 0,
  "metadata": {
    "colab": {
      "name": "Untitled2.ipynb",
      "provenance": [],
      "include_colab_link": true
    },
    "kernelspec": {
      "name": "python3",
      "display_name": "Python 3"
    }
  },
  "cells": [
    {
      "cell_type": "markdown",
      "metadata": {
        "id": "view-in-github",
        "colab_type": "text"
      },
      "source": [
        "<a href=\"https://colab.research.google.com/github/you0229/kaggle_titanic/blob/master/main_2.ipynb\" target=\"_parent\"><img src=\"https://colab.research.google.com/assets/colab-badge.svg\" alt=\"Open In Colab\"/></a>"
      ]
    },
    {
      "cell_type": "code",
      "metadata": {
        "id": "_0ulDHTH3Zjm",
        "colab_type": "code",
        "outputId": "d3e35ae0-2481-4683-c801-a4def8ab7aa0",
        "colab": {
          "base_uri": "https://localhost:8080/",
          "height": 124
        }
      },
      "source": [
        "from google.colab import drive\n",
        "drive.mount('/content/drive')"
      ],
      "execution_count": 1,
      "outputs": [
        {
          "output_type": "stream",
          "text": [
            "Go to this URL in a browser: https://accounts.google.com/o/oauth2/auth?client_id=947318989803-6bn6qk8qdgf4n4g3pfee6491hc0brc4i.apps.googleusercontent.com&redirect_uri=urn%3aietf%3awg%3aoauth%3a2.0%3aoob&response_type=code&scope=email%20https%3a%2f%2fwww.googleapis.com%2fauth%2fdocs.test%20https%3a%2f%2fwww.googleapis.com%2fauth%2fdrive%20https%3a%2f%2fwww.googleapis.com%2fauth%2fdrive.photos.readonly%20https%3a%2f%2fwww.googleapis.com%2fauth%2fpeopleapi.readonly\n",
            "\n",
            "Enter your authorization code:\n",
            "··········\n",
            "Mounted at /content/drive\n"
          ],
          "name": "stdout"
        }
      ]
    },
    {
      "cell_type": "code",
      "metadata": {
        "id": "tUOQYARP6Fh_",
        "colab_type": "code",
        "colab": {}
      },
      "source": [
        "# libraries\n",
        "import pandas as pd\n",
        "import numpy as np\n",
        "from keras import models\n",
        "from keras import layers\n",
        "from keras.utils import to_categorical\n",
        "import matplotlib.pyplot as plt\n",
        "%matplotlib inline"
      ],
      "execution_count": 0,
      "outputs": []
    },
    {
      "cell_type": "code",
      "metadata": {
        "id": "G1qI4HTs3hp0",
        "colab_type": "code",
        "colab": {}
      },
      "source": [
        "# データ読み込み\n",
        "def read_data():\n",
        "  print('Train data reading...')\n",
        "  train = pd.read_csv('/content/drive/My Drive/MachineLeaning/kaggle_titanic/train.csv')\n",
        "  print(\"Train data is column {}, rows: {}\".format(train.shape[0], train.shape[1]))\n",
        "  print('Test data reading...')\n",
        "  test = pd.read_csv('/content/drive/My Drive/MachineLeaning/kaggle_titanic/test.csv')\n",
        "  print(\"Test data is column {}, rows: {}\".format(test.shape[0], test.shape[1]))\n",
        "\n",
        "  return train, test"
      ],
      "execution_count": 0,
      "outputs": []
    },
    {
      "cell_type": "code",
      "metadata": {
        "id": "cvjpXfi237GK",
        "colab_type": "code",
        "colab": {}
      },
      "source": [
        "# データ整理\n",
        "def pre_processing(train, test):\n",
        "  # train と test を合わせて前処理\n",
        "  print('Combine train and test')\n",
        "  train['is_train'] = 1\n",
        "  test['is_train'] = 0\n",
        "  train_test = pd.concat([train.drop('Survived', axis=1),test], axis=0)\n",
        "\n",
        "  # Sex\n",
        "  print('Modifying Sex column')\n",
        "  train_test = train_test.replace('female', 0).replace('male', 1)\n",
        "\n",
        "  # Ticket\n",
        "  print('Modifying Ticket column')\n",
        "  ticket_to_num = {'A':0, 'P':1, 'S':2, '1':3, '3':4, '2':5, 'C':6, '7':7, 'W':8, '4':9, 'F':9, 'L':10, '9':11,'6':12, '5':13, '8':14}\n",
        "  train_test['Ticket_Left'] = train_test['Ticket'].apply(lambda x: str(x)[0])\n",
        "  train_test['Ticket_Left'] = train_test['Ticket_Left'].replace(ticket_to_num)\n",
        "  train_test = train_test.drop('Ticket', axis=1)\n",
        "\n",
        "  # Embarked\n",
        "  print('Modifying Embarked column')\n",
        "  embarked_to_num = {'S':0, 'C':1, 'Q':2}\n",
        "  train_test['Embarked'] = train_test['Embarked'].replace(embarked_to_num)\n",
        "  train_test['Embarked'] = train_test['Embarked'].fillna(train_test['Embarked'].mean())\n",
        "  train_test = train_test.drop('Embarked', axis=1)\n",
        "\n",
        "  # Cabin\n",
        "  # 204/891 したデータが入っていないため削除\n",
        "  print('Modifying Cabin column')\n",
        "  train_test = train_test.drop('Cabin', axis=1)\n",
        "\n",
        "  # Age\n",
        "  # print('Modifying Age column')\n",
        "  # train_test = train_test.dropna(subset=['Age'])\n",
        "\n",
        "  # Name\n",
        "  # 関係なさそうだから削除\n",
        "  print('Modifying Name column')\n",
        "  train_test = train_test.drop('Name', axis=1)\n",
        "\n",
        "  # Fare\n",
        "  # print('Modifying Fare column')\n",
        "  # train_test = train_test.dropna(subset=['Fare'])\n",
        "\n",
        "  # train test\n",
        "  print('Split train and test')\n",
        "  train_result = train_test.loc[train_test['is_train'] == 1]\n",
        "  test_result = train_test.loc[train_test['is_train'] == 0]\n",
        "\n",
        "  train_result = train_result.drop('is_train', axis=1)\n",
        "  test_result = test_result.drop('is_train', axis=1)\n",
        "\n",
        "  # add Survived\n",
        "  train_result['Survived'] = train['Survived']\n",
        "\n",
        "  # Delete Age and Fare\n",
        "  train_result = train_result.dropna(subset=['Age', 'Fare'])\n",
        "  test_result = test_result.dropna(subset=['Age', 'Fare'])\n",
        "\n",
        "  return train_result, test_result"
      ],
      "execution_count": 0,
      "outputs": []
    },
    {
      "cell_type": "code",
      "metadata": {
        "id": "F2_2uzwB4z5y",
        "colab_type": "code",
        "colab": {}
      },
      "source": [
        "# モデル作成\n",
        "def create_model(x):\n",
        "  network = models.Sequential()\n",
        "  network.add(layers.Dense(512, activation='relu', input_shape=(x.shape[1],)))\n",
        "  network.add(layers.Dense(10,activation='softmax'))\n",
        "  network.compile(optimizer='rmsprop', loss='categorical_crossentropy', metrics=['accuracy'])\n",
        "\n",
        "  return network"
      ],
      "execution_count": 0,
      "outputs": []
    },
    {
      "cell_type": "code",
      "metadata": {
        "id": "Z1GOSyD1CI_J",
        "colab_type": "code",
        "colab": {}
      },
      "source": [
        "# ラベルの処理\n",
        "def data_to_categorical(labels):\n",
        "  return to_categorical(labels)"
      ],
      "execution_count": 0,
      "outputs": []
    },
    {
      "cell_type": "code",
      "metadata": {
        "id": "b3p0Vkk843iZ",
        "colab_type": "code",
        "colab": {}
      },
      "source": [
        "# 学習\n",
        "def model_fit(x, y):\n",
        "  model = create_model(x)\n",
        "  model.fit(x, y, epochs=3, batch_size=100)"
      ],
      "execution_count": 0,
      "outputs": []
    },
    {
      "cell_type": "code",
      "metadata": {
        "id": "wUYCe34r46Ix",
        "colab_type": "code",
        "colab": {}
      },
      "source": [
        "# 評価"
      ],
      "execution_count": 0,
      "outputs": []
    },
    {
      "cell_type": "code",
      "metadata": {
        "id": "q-bBVQYmdZ_Z",
        "colab_type": "code",
        "outputId": "a8e78a13-d95e-43dc-97f3-018297f3741a",
        "colab": {
          "base_uri": "https://localhost:8080/",
          "height": 86
        }
      },
      "source": [
        "train, test = read_data()"
      ],
      "execution_count": 15,
      "outputs": [
        {
          "output_type": "stream",
          "text": [
            "Train data reading...\n",
            "Train data is column 891, rows: 12\n",
            "Test data reading...\n",
            "Test data is column 418, rows: 11\n"
          ],
          "name": "stdout"
        }
      ]
    },
    {
      "cell_type": "code",
      "metadata": {
        "id": "75Jw51jbf97d",
        "colab_type": "code",
        "outputId": "c16d57eb-dff8-4b6e-91f0-5f9cf3df8d94",
        "colab": {
          "base_uri": "https://localhost:8080/",
          "height": 139
        }
      },
      "source": [
        "train, test = pre_processing(train, test)\n",
        "\n",
        "columns = ['Pclass', 'Sex', 'Age', 'SibSp', 'Parch', 'Fare', 'Ticket_Left']\n",
        "\n",
        "train_data = train[columns].values\n",
        "train_lavels = train['Survived'].values\n",
        "\n",
        "x_train = np.asarray(train_data).astype('float32')\n",
        "y_train = np.asarray(train_lavels).astype('float32')\n",
        "\n",
        "test_data = test[columns].values.astype('float32')"
      ],
      "execution_count": 16,
      "outputs": [
        {
          "output_type": "stream",
          "text": [
            "Combine train and test\n",
            "Modifying Sex column\n",
            "Modifying Ticket column\n",
            "Modifying Embarked column\n",
            "Modifying Cabin column\n",
            "Modifying Name column\n",
            "Split train and test\n"
          ],
          "name": "stdout"
        }
      ]
    },
    {
      "cell_type": "code",
      "metadata": {
        "id": "6ADOm-AU9N94",
        "colab_type": "code",
        "colab": {}
      },
      "source": [
        "#正規化\n",
        "for i in range(len(columns)-1):\n",
        "    mean = x_train.mean(axis=0)[i]\n",
        "    std = x_train.std(axis=0)[i]\n",
        "\n",
        "    x_train[:, i] = (x_train[:, i] - mean) / std\n",
        "    test_data[:, i] = (test_data[:, i] - mean) / std"
      ],
      "execution_count": 0,
      "outputs": []
    },
    {
      "cell_type": "code",
      "metadata": {
        "id": "hONmGat2zbxn",
        "colab_type": "code",
        "colab": {}
      },
      "source": [
        "model = create_model(x_train)\n",
        "model.fit(x_train, y_train, epochs=3, batch_size=100)"
      ],
      "execution_count": 0,
      "outputs": []
    },
    {
      "cell_type": "code",
      "metadata": {
        "id": "2QCeZiXYzE7d",
        "colab_type": "code",
        "colab": {
          "base_uri": "https://localhost:8080/",
          "height": 541
        },
        "outputId": "2f25218e-0f38-4011-feef-f67ca88ea03c"
      },
      "source": [
        "#k分割交差検証\n",
        "\n",
        "k = 4#分割数\n",
        "num_val_data = len(x_train) // k#検証データ数\n",
        "num_epochs = 78\n",
        "batch_size = 8\n",
        "\n",
        "a_all_scores = []\n",
        "b_all_scores = []\n",
        "c_all_scores = []\n",
        "d_all_scores = []\n",
        "\n",
        "for i in range(k):\n",
        "    print(i+1, \"回目\")\n",
        "\n",
        "    #検証データとラベル\n",
        "    val_data = x_train[i*num_val_data: (i+1)*num_val_data]\n",
        "    val_targets = y_train[i*num_val_data: (i+1)*num_val_data]\n",
        "\n",
        "    #訓練データとラベル\n",
        "    partial_train_data = np.concatenate([x_train[: i*num_val_data], x_train[(i+1)*num_val_data: ]], axis = 0)\n",
        "    partial_train_targets = np.concatenate([y_train[: i*num_val_data], y_train[(i+1)*num_val_data: ]], axis = 0)\n",
        "\n",
        "    model = models.Sequential()\n",
        "    model.add(layers.Dense(8, activation=\"relu\", input_shape=(len(columns), )))\n",
        "    model.add(layers.Dropout(0.2))\n",
        "    model.add(layers.Dense(8, activation=\"relu\"))\n",
        "    model.add(layers.Dropout(0.2))\n",
        "    model.add(layers.Dense(1, activation=\"sigmoid\"))\n",
        "\n",
        "    model.compile(optimizer=\"rmsprop\", loss=\"binary_crossentropy\", metrics=[\"acc\"])\n",
        "\n",
        "    history = model.fit(partial_train_data, partial_train_targets, \n",
        "                        epochs=num_epochs, \n",
        "                        batch_size=batch_size, \n",
        "                        validation_data=(val_data, val_targets), \n",
        "                        verbose = 0\n",
        "                       )\n",
        "\n",
        "    a_history = history.history[\"acc\"]\n",
        "    a_all_scores.append(a_history)\n",
        "    b_history = history.history[\"val_acc\"]\n",
        "    b_all_scores.append(b_history)\n",
        "    c_history = history.history[\"loss\"]\n",
        "    c_all_scores.append(c_history)\n",
        "    d_history = history.history[\"val_loss\"]\n",
        "    d_all_scores.append(d_history)\n",
        "\n",
        "\n",
        "print(\"終了\")"
      ],
      "execution_count": 22,
      "outputs": [
        {
          "output_type": "stream",
          "text": [
            "1 回目\n",
            "WARNING:tensorflow:From /usr/local/lib/python3.6/dist-packages/keras/backend/tensorflow_backend.py:148: The name tf.placeholder_with_default is deprecated. Please use tf.compat.v1.placeholder_with_default instead.\n",
            "\n",
            "WARNING:tensorflow:From /usr/local/lib/python3.6/dist-packages/keras/backend/tensorflow_backend.py:3733: calling dropout (from tensorflow.python.ops.nn_ops) with keep_prob is deprecated and will be removed in a future version.\n",
            "Instructions for updating:\n",
            "Please use `rate` instead of `keep_prob`. Rate should be set to `rate = 1 - keep_prob`.\n",
            "WARNING:tensorflow:From /usr/local/lib/python3.6/dist-packages/tensorflow_core/python/ops/nn_impl.py:183: where (from tensorflow.python.ops.array_ops) is deprecated and will be removed in a future version.\n",
            "Instructions for updating:\n",
            "Use tf.where in 2.0, which has the same broadcast rule as np.where\n",
            "WARNING:tensorflow:From /usr/local/lib/python3.6/dist-packages/keras/backend/tensorflow_backend.py:1033: The name tf.assign_add is deprecated. Please use tf.compat.v1.assign_add instead.\n",
            "\n",
            "WARNING:tensorflow:From /usr/local/lib/python3.6/dist-packages/keras/backend/tensorflow_backend.py:1020: The name tf.assign is deprecated. Please use tf.compat.v1.assign instead.\n",
            "\n",
            "WARNING:tensorflow:From /usr/local/lib/python3.6/dist-packages/keras/backend/tensorflow_backend.py:3005: The name tf.Session is deprecated. Please use tf.compat.v1.Session instead.\n",
            "\n",
            "WARNING:tensorflow:From /usr/local/lib/python3.6/dist-packages/keras/backend/tensorflow_backend.py:190: The name tf.get_default_session is deprecated. Please use tf.compat.v1.get_default_session instead.\n",
            "\n",
            "WARNING:tensorflow:From /usr/local/lib/python3.6/dist-packages/keras/backend/tensorflow_backend.py:197: The name tf.ConfigProto is deprecated. Please use tf.compat.v1.ConfigProto instead.\n",
            "\n",
            "WARNING:tensorflow:From /usr/local/lib/python3.6/dist-packages/keras/backend/tensorflow_backend.py:207: The name tf.global_variables is deprecated. Please use tf.compat.v1.global_variables instead.\n",
            "\n",
            "WARNING:tensorflow:From /usr/local/lib/python3.6/dist-packages/keras/backend/tensorflow_backend.py:216: The name tf.is_variable_initialized is deprecated. Please use tf.compat.v1.is_variable_initialized instead.\n",
            "\n",
            "WARNING:tensorflow:From /usr/local/lib/python3.6/dist-packages/keras/backend/tensorflow_backend.py:223: The name tf.variables_initializer is deprecated. Please use tf.compat.v1.variables_initializer instead.\n",
            "\n",
            "2 回目\n",
            "3 回目\n",
            "4 回目\n",
            "終了\n"
          ],
          "name": "stdout"
        }
      ]
    },
    {
      "cell_type": "code",
      "metadata": {
        "id": "FohETj6KLvNg",
        "colab_type": "code",
        "outputId": "b0b8f0dd-c8a7-49ac-ec4e-19c0d8c19ffb",
        "colab": {
          "base_uri": "https://localhost:8080/",
          "height": 513
        }
      },
      "source": [
        "average_a_history = [np.mean([x[i] for x in a_all_scores]) for i in range(num_epochs)]\n",
        "average_b_history = [np.mean([x[i] for x in b_all_scores]) for i in range(num_epochs)]\n",
        "average_c_history = [np.mean([x[i] for x in c_all_scores]) for i in range(num_epochs)]\n",
        "average_d_history = [np.mean([x[i] for x in d_all_scores]) for i in range(num_epochs)]\n",
        "\n",
        "plt.plot(range(1, len(average_a_history) + 1), average_a_history, color = \"red\", label=\"acc\")\n",
        "plt.plot(range(1, len(average_b_history) + 1), average_b_history, color = \"blue\", label=\"val_acc\")\n",
        "plt.legend()\n",
        "plt.grid(True)\n",
        "plt.show()\n",
        "\n",
        "plt.plot(range(1, len(average_c_history) + 1), average_c_history, color = \"red\", label=\"loss\")\n",
        "plt.plot(range(1, len(average_d_history) + 1), average_d_history, color = \"blue\", label=\"val_loss\")\n",
        "plt.legend()\n",
        "plt.grid(True)\n",
        "plt.show()"
      ],
      "execution_count": 25,
      "outputs": [
        {
          "output_type": "display_data",
          "data": {
            "image/png": "[encoded data removed]",
            "text/plain": [
              "<Figure size 432x288 with 1 Axes>"
            ]
          },
          "metadata": {
            "tags": []
          }
        },
        {
          "output_type": "display_data",
          "data": {
            "image/png": "[encoded data removed]",
            "text/plain": [
              "<Figure size 432x288 with 1 Axes>"
            ]
          },
          "metadata": {
            "tags": []
          }
        }
      ]
    }
  ]
}