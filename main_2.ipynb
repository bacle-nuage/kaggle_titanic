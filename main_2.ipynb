{
  "nbformat": 4,
  "nbformat_minor": 0,
  "metadata": {
    "colab": {
      "name": "Untitled2.ipynb",
      "provenance": [],
      "authorship_tag": "ABX9TyNcg4WC+7qNU/zkUOt8X6xN",
      "include_colab_link": true
    },
    "kernelspec": {
      "name": "python3",
      "display_name": "Python 3"
    }
  },
  "cells": [
    {
      "cell_type": "markdown",
      "metadata": {
        "id": "view-in-github",
        "colab_type": "text"
      },
      "source": [
        "<a href=\"https://colab.research.google.com/github/you0229/kaggle_titanic/blob/master/main_2.ipynb\" target=\"_parent\"><img src=\"https://colab.research.google.com/assets/colab-badge.svg\" alt=\"Open In Colab\"/></a>"
      ]
    },
    {
      "cell_type": "code",
      "metadata": {
        "id": "_0ulDHTH3Zjm",
        "colab_type": "code",
        "outputId": "a0d7a55f-716a-42ee-87e6-902909903168",
        "colab": {
          "base_uri": "https://localhost:8080/",
          "height": 124
        }
      },
      "source": [
        "from google.colab import drive\n",
        "drive.mount('/content/drive')"
      ],
      "execution_count": 1,
      "outputs": [
        {
          "output_type": "stream",
          "text": [
            "Go to this URL in a browser: https://accounts.google.com/o/oauth2/auth?client_id=947318989803-6bn6qk8qdgf4n4g3pfee6491hc0brc4i.apps.googleusercontent.com&redirect_uri=urn%3aietf%3awg%3aoauth%3a2.0%3aoob&response_type=code&scope=email%20https%3a%2f%2fwww.googleapis.com%2fauth%2fdocs.test%20https%3a%2f%2fwww.googleapis.com%2fauth%2fdrive%20https%3a%2f%2fwww.googleapis.com%2fauth%2fdrive.photos.readonly%20https%3a%2f%2fwww.googleapis.com%2fauth%2fpeopleapi.readonly\n",
            "\n",
            "Enter your authorization code:\n",
            "··········\n",
            "Mounted at /content/drive\n"
          ],
          "name": "stdout"
        }
      ]
    },
    {
      "cell_type": "code",
      "metadata": {
        "id": "tUOQYARP6Fh_",
        "colab_type": "code",
        "colab": {}
      },
      "source": [
        "# libraries\n",
        "import pandas as pd"
      ],
      "execution_count": 0,
      "outputs": []
    },
    {
      "cell_type": "code",
      "metadata": {
        "id": "G1qI4HTs3hp0",
        "colab_type": "code",
        "colab": {}
      },
      "source": [
        "# データ読み込み\n",
        "def read_data():\n",
        "  print('Train data reading...')\n",
        "  train = pd.read_csv('/content/drive/My Drive/MachineLeaning/kaggle_titanic/train.csv')\n",
        "  print(\"Train data is column {}, rows: {}\").format(train.shape()[0], train.shape()[1])\n",
        "  print('Test data reading...')\n",
        "  test = pd.read_csv('/content/drive/My Drive/MachineLeaning/kaggle_titanic/test.csv')\n",
        "  print(\"Test data is column {}, rows: {}\").format(test.shape()[0], test.shape()[1])\n",
        "\n",
        "  return train, test"
      ],
      "execution_count": 0,
      "outputs": []
    },
    {
      "cell_type": "code",
      "metadata": {
        "id": "cvjpXfi237GK",
        "colab_type": "code",
        "colab": {}
      },
      "source": [
        "# データ整理"
      ],
      "execution_count": 0,
      "outputs": []
    },
    {
      "cell_type": "code",
      "metadata": {
        "id": "F2_2uzwB4z5y",
        "colab_type": "code",
        "colab": {}
      },
      "source": [
        "# モデル作成"
      ],
      "execution_count": 0,
      "outputs": []
    },
    {
      "cell_type": "code",
      "metadata": {
        "id": "b3p0Vkk843iZ",
        "colab_type": "code",
        "colab": {}
      },
      "source": [
        "# 学習"
      ],
      "execution_count": 0,
      "outputs": []
    },
    {
      "cell_type": "code",
      "metadata": {
        "id": "wUYCe34r46Ix",
        "colab_type": "code",
        "colab": {}
      },
      "source": [
        "# 評価"
      ],
      "execution_count": 0,
      "outputs": []
    },
    {
      "cell_type": "code",
      "metadata": {
        "id": "q-bBVQYmdZ_Z",
        "colab_type": "code",
        "colab": {}
      },
      "source": [
        "train, test = read_data()\n"
      ],
      "execution_count": 0,
      "outputs": []
    }
  ]
}